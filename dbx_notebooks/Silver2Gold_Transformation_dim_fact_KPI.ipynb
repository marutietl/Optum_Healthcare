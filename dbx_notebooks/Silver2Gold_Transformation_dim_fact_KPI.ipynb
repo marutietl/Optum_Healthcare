{
 "cells": [
  {
   "cell_type": "code",
   "execution_count": 0,
   "metadata": {
    "application/vnd.databricks.v1+cell": {
     "cellMetadata": {
      "byteLimit": 2048000,
      "rowLimit": 10000
     },
     "inputWidgets": {},
     "nuid": "82b65e72-0a98-4087-8100-ca8fa77888ac",
     "showTitle": false,
     "tableResultSettingsMap": {},
     "title": ""
    }
   },
   "outputs": [],
   "source": [
    "%run /Workspace/Users/marutidodmani.cloud02@gmail.com/generic_connecters"
   ]
  },
  {
   "cell_type": "code",
   "execution_count": 0,
   "metadata": {
    "application/vnd.databricks.v1+cell": {
     "cellMetadata": {
      "byteLimit": 2048000,
      "rowLimit": 10000
     },
     "inputWidgets": {},
     "nuid": "2ca91685-608f-467f-a288-beda29c105a7",
     "showTitle": false,
     "tableResultSettingsMap": {},
     "title": ""
    }
   },
   "outputs": [],
   "source": [
    "%run /Workspace/Users/marutidodmani.cloud02@gmail.com/generic_transformation"
   ]
  },
  {
   "cell_type": "code",
   "execution_count": 0,
   "metadata": {
    "application/vnd.databricks.v1+cell": {
     "cellMetadata": {
      "byteLimit": 2048000,
      "rowLimit": 10000
     },
     "inputWidgets": {},
     "nuid": "dbd0e63e-1bf5-4df3-bf6e-a322d75579bd",
     "showTitle": false,
     "tableResultSettingsMap": {},
     "title": ""
    }
   },
   "outputs": [],
   "source": [
    "spark_connector()"
   ]
  },
  {
   "cell_type": "code",
   "execution_count": 0,
   "metadata": {
    "application/vnd.databricks.v1+cell": {
     "cellMetadata": {
      "byteLimit": 2048000,
      "rowLimit": 10000
     },
     "inputWidgets": {},
     "nuid": "a7f1dfc2-ed35-4c03-8611-bae15567a9ec",
     "showTitle": false,
     "tableResultSettingsMap": {},
     "title": ""
    }
   },
   "outputs": [],
   "source": [
    "#Reading all Silver layer files\n",
    "patient_data=read_silver_csv_data(\"patient_S\")\n",
    "hospital_data=read_silver_csv_data(\"hospital_S\")\n",
    "claims_data=read_silver_csv_data(\"claims_S\")\n",
    "disease_data=read_silver_csv_data(\"disease_S\")\n",
    "group_data=read_silver_csv_data(\"group_S\")\n",
    "subgroup_data=read_silver_csv_data(\"subgroup_S\")\n",
    "subscribe_data=read_silver_csv_data(\"subscriber_S\")"
   ]
  },
  {
   "cell_type": "code",
   "execution_count": 0,
   "metadata": {
    "application/vnd.databricks.v1+cell": {
     "cellMetadata": {
      "byteLimit": 2048000,
      "rowLimit": 10000
     },
     "inputWidgets": {},
     "nuid": "dc507e88-25ce-4aec-b33c-e9e692efbaec",
     "showTitle": false,
     "tableResultSettingsMap": {},
     "title": ""
    }
   },
   "outputs": [],
   "source": [
    "dim_subscriber = subscribe_data.select(\n",
    "    col(\"sub_id\").alias(\"SubscriberKey\"),\n",
    "    col(\"first_name\"),\n",
    "    col(\"last_name\"),\n",
    "    col(\"Street\"),\n",
    "    col(\"Gender\"),\n",
    "    col(\"Country\"),\n",
    "    col(\"City\"),\n",
    "    col(\"Zip_Code\"),\n",
    "    col(\"Subgrp_id\"),\n",
    "    col(\"Elig_ind\"),\n",
    "    col(\"eff_date\"),\n",
    "    col(\"term_date\"),\n",
    "    col(\"Patient_age\")\n",
    ").dropDuplicates([\"SubscriberKey\"])"
   ]
  },
  {
   "cell_type": "code",
   "execution_count": 0,
   "metadata": {
    "application/vnd.databricks.v1+cell": {
     "cellMetadata": {
      "byteLimit": 2048000,
      "rowLimit": 10000
     },
     "inputWidgets": {},
     "nuid": "39276b54-1f73-417c-ae49-4fb531913cfd",
     "showTitle": false,
     "tableResultSettingsMap": {},
     "title": ""
    }
   },
   "outputs": [],
   "source": [
    "dim_subgroup = subgroup_data.select(\n",
    "    col(\"subgrp_id\").alias(\"SubgroupKey\"),\n",
    "    col(\"subgrp_name\"),\n",
    "    col(\"monthly_premium\")\n",
    ").dropDuplicates([\"SubgroupKey\"])\n"
   ]
  },
  {
   "cell_type": "code",
   "execution_count": 0,
   "metadata": {
    "application/vnd.databricks.v1+cell": {
     "cellMetadata": {
      "byteLimit": 2048000,
      "rowLimit": 10000
     },
     "inputWidgets": {},
     "nuid": "69f823fb-1991-4ac6-8a0a-16f7b84dcea1",
     "showTitle": false,
     "tableResultSettingsMap": {},
     "title": ""
    }
   },
   "outputs": [],
   "source": [
    "dim_patient = patient_data.select(\n",
    "    col(\"patient_id\").alias(\"PatientKey\"),\n",
    "    col(\"patient_name\"),\n",
    "    col(\"patient_gender\"),\n",
    "    col(\"disease_name\"),\n",
    "    col(\"city\"),\n",
    "    col(\"hospital_id\"),\n",
    "    col(\"patient_age\")\n",
    ").dropDuplicates([\"PatientKey\"])\n"
   ]
  },
  {
   "cell_type": "code",
   "execution_count": 0,
   "metadata": {
    "application/vnd.databricks.v1+cell": {
     "cellMetadata": {
      "byteLimit": 2048000,
      "rowLimit": 10000
     },
     "inputWidgets": {},
     "nuid": "90a7223f-7ee4-4592-b086-9a0a0c592de0",
     "showTitle": false,
     "tableResultSettingsMap": {},
     "title": ""
    }
   },
   "outputs": [],
   "source": [
    "dim_hospital = hospital_data.select(\n",
    "    col(\"hospital_id\").alias(\"HospitalKey\"),\n",
    "    col(\"hospital_name\"),\n",
    "    col(\"city\"),\n",
    "    col(\"state\"),\n",
    "    col(\"country\")\n",
    ").dropDuplicates([\"HospitalKey\"])\n"
   ]
  },
  {
   "cell_type": "code",
   "execution_count": 0,
   "metadata": {
    "application/vnd.databricks.v1+cell": {
     "cellMetadata": {
      "byteLimit": 2048000,
      "rowLimit": 10000
     },
     "inputWidgets": {},
     "nuid": "db5a07df-3882-4df1-9ab6-cfaf710615b8",
     "showTitle": false,
     "tableResultSettingsMap": {},
     "title": ""
    }
   },
   "outputs": [],
   "source": [
    "dim_group = group_data.select(\n",
    "    col(\"grp_id\").alias(\"GroupKey\"),\n",
    "    col(\"grp_name\"),\n",
    "    col(\"grp_type\"),\n",
    "    col(\"country\"),\n",
    "    col(\"city\"),\n",
    "    col(\"premium_written\"),\n",
    "    col(\"zip_code\")\n",
    ").dropDuplicates([\"GroupKey\"])\n"
   ]
  },
  {
   "cell_type": "code",
   "execution_count": 0,
   "metadata": {
    "application/vnd.databricks.v1+cell": {
     "cellMetadata": {
      "byteLimit": 2048000,
      "rowLimit": 10000
     },
     "inputWidgets": {},
     "nuid": "0dc9b415-facb-4224-a24d-c9dfb2b2d680",
     "showTitle": false,
     "tableResultSettingsMap": {},
     "title": ""
    }
   },
   "outputs": [],
   "source": [
    "dim_disease = disease_data.select(\n",
    "    col(\"disease_id\").alias(\"DiseaseKey\"),\n",
    "    col(\"disease_name\"),\n",
    "    col(\"subgrp_id\")\n",
    ").dropDuplicates([\"DiseaseKey\"])\n"
   ]
  },
  {
   "cell_type": "code",
   "execution_count": 0,
   "metadata": {
    "application/vnd.databricks.v1+cell": {
     "cellMetadata": {
      "byteLimit": 2048000,
      "rowLimit": 10000
     },
     "inputWidgets": {},
     "nuid": "0d9e6a73-4e40-420d-a748-7944bdeb1108",
     "showTitle": false,
     "tableResultSettingsMap": {},
     "title": ""
    }
   },
   "outputs": [],
   "source": [
    "fact_claims = claims_data.alias(\"c\") \\\n",
    "    .join(dim_subscriber.alias(\"s\"), col(\"c.sub_id\") == col(\"s.SubscriberKey\"), \"left\") \\\n",
    "    .join(dim_patient.alias(\"p\"), col(\"c.patient_id\") == col(\"p.PatientKey\"), \"left\") \\\n",
    "    .join(dim_disease.alias(\"d\"), col(\"c.disease_name\") == col(\"d.disease_name\"), \"left\") \\\n",
    "    .join(dim_hospital.alias(\"h\"), col(\"p.hospital_id\") == col(\"h.HospitalKey\"), \"left\") \\\n",
    "    .join(dim_subgroup.alias(\"sg\"), col(\"s.Subgrp_id\") == col(\"sg.SubgroupKey\"), \"left\") \\\n",
    "    .select(\n",
    "        col(\"c.claim_id\").alias(\"ClaimKey\"),\n",
    "        col(\"s.SubscriberKey\"),\n",
    "        col(\"p.PatientKey\"),\n",
    "        col(\"h.HospitalKey\"),\n",
    "        col(\"sg.SubgroupKey\"),\n",
    "        col(\"d.DiseaseKey\"),\n",
    "        col(\"c.claim_amount\"),\n",
    "        col(\"c.claim_date\"),\n",
    "        col(\"c.claim_type\"),\n",
    "        col(\"c.Claim_Or_Rejected\")\n",
    "    )\n"
   ]
  },
  {
   "cell_type": "code",
   "execution_count": 0,
   "metadata": {
    "application/vnd.databricks.v1+cell": {
     "cellMetadata": {
      "byteLimit": 2048000,
      "rowLimit": 10000
     },
     "inputWidgets": {},
     "nuid": "4a43bceb-cb99-4eb8-bfa3-a7e8e4a0986c",
     "showTitle": false,
     "tableResultSettingsMap": {
      "0": {
       "dataGridStateBlob": "{\"version\":1,\"tableState\":{\"columnPinning\":{\"left\":[\"#row_number#\"],\"right\":[]},\"columnSizing\":{},\"columnVisibility\":{}},\"settings\":{\"columns\":{}},\"syncTimestamp\":1757780622157}",
       "filterBlob": null,
       "queryPlanFiltersBlob": null,
       "tableResultIndex": 0
      }
     },
     "title": ""
    }
   },
   "outputs": [],
   "source": [
    "display(fact_claims)"
   ]
  },
  {
   "cell_type": "code",
   "execution_count": 0,
   "metadata": {
    "application/vnd.databricks.v1+cell": {
     "cellMetadata": {
      "byteLimit": 2048000,
      "rowLimit": 10000
     },
     "inputWidgets": {},
     "nuid": "6da0032b-8953-4849-b62d-3e798d957294",
     "showTitle": false,
     "tableResultSettingsMap": {},
     "title": ""
    }
   },
   "outputs": [],
   "source": [
    "claim_status_summary = fact_claims.groupBy(\"Claim_Or_Rejected\") \\\n",
    "    .agg(count(\"ClaimKey\").alias(\"claim_count\"),\n",
    "         sum(\"claim_amount\").alias(\"total_amount\"))\n"
   ]
  },
  {
   "cell_type": "code",
   "execution_count": 0,
   "metadata": {
    "application/vnd.databricks.v1+cell": {
     "cellMetadata": {
      "byteLimit": 2048000,
      "rowLimit": 10000
     },
     "inputWidgets": {},
     "nuid": "a783e46d-1df7-4932-9710-d64c8c1de41d",
     "showTitle": false,
     "tableResultSettingsMap": {},
     "title": ""
    }
   },
   "outputs": [],
   "source": [
    "monthly_claims = fact_claims.withColumn(\"month\", date_format(\"claim_date\", \"yyyy-MM\")) \\\n",
    "    .groupBy(\"month\") \\\n",
    "    .agg(\n",
    "        count(\"ClaimKey\").alias(\"claim_count\"),\n",
    "        sum(\"claim_amount\").alias(\"total_claim_amount\")\n",
    "    )\n"
   ]
  },
  {
   "cell_type": "code",
   "execution_count": 0,
   "metadata": {
    "application/vnd.databricks.v1+cell": {
     "cellMetadata": {
      "byteLimit": 2048000,
      "rowLimit": 10000
     },
     "inputWidgets": {},
     "nuid": "58287b9a-b0cb-4bd8-bb3c-0a06b43bbf1f",
     "showTitle": false,
     "tableResultSettingsMap": {},
     "title": ""
    }
   },
   "outputs": [],
   "source": [
    "avg_claim_per_disease = fact_claims.groupBy(\"DiseaseKey\") \\\n",
    "    .agg(avg(\"claim_amount\").alias(\"avg_claim_amount\"))\n"
   ]
  },
  {
   "cell_type": "code",
   "execution_count": 0,
   "metadata": {
    "application/vnd.databricks.v1+cell": {
     "cellMetadata": {
      "byteLimit": 2048000,
      "rowLimit": 10000
     },
     "inputWidgets": {},
     "nuid": "186fc24b-02e1-4294-b089-91a22e54b249",
     "showTitle": false,
     "tableResultSettingsMap": {},
     "title": ""
    }
   },
   "outputs": [],
   "source": [
    "from pyspark.sql.functions import *\n",
    "# Flattened Gold table\n",
    "gold_df = fact_claims.alias(\"f\") \\\n",
    "    .join(dim_subscriber.alias(\"s\"), col(\"f.SubscriberKey\") == col(\"s.SubscriberKey\"), \"left\") \\\n",
    "    .join(dim_patient.alias(\"p\"), col(\"f.PatientKey\") == col(\"p.PatientKey\"), \"left\") \\\n",
    "    .join(dim_hospital.alias(\"h\"), col(\"f.HospitalKey\") == col(\"h.HospitalKey\"), \"left\") \\\n",
    "    .join(dim_subgroup.alias(\"sg\"), col(\"f.SubgroupKey\") == col(\"sg.SubgroupKey\"), \"left\") \\\n",
    "    .join(dim_disease.alias(\"d\"), col(\"f.DiseaseKey\") == col(\"d.DiseaseKey\"), \"left\") \\\n",
    "    .join(dim_group.alias(\"g\"), col(\"sg.SubgroupKey\") == col(\"g.GroupKey\"), \"left\") \\\n",
    "    .select(\n",
    "        col(\"f.ClaimKey\"),\n",
    "        col(\"f.claim_date\"),\n",
    "        col(\"f.claim_type\"),\n",
    "        col(\"f.claim_amount\"),\n",
    "        col(\"f.Claim_Or_Rejected\"),\n",
    "        col(\"s.SubscriberKey\"),\n",
    "        col(\"s.first_name\").alias(\"SubscriberFirstName\"),\n",
    "        col(\"s.last_name\").alias(\"SubscriberLastName\"),\n",
    "        col(\"s.Street\"),\n",
    "        col(\"s.Gender\").alias(\"SubscriberGender\"),\n",
    "        col(\"s.City\").alias(\"SubscriberCity\"),\n",
    "        col(\"s.Country\").alias(\"SubscriberCountry\"),\n",
    "        col(\"s.Zip_Code\"),\n",
    "        col(\"s.Elig_ind\"),\n",
    "        col(\"s.eff_date\"),\n",
    "        col(\"s.term_date\"),\n",
    "        col(\"s.Patient_age\").alias(\"SubscriberAge\"),\n",
    "        col(\"p.PatientKey\"),\n",
    "        col(\"p.patient_name\"),\n",
    "        col(\"p.patient_gender\"),\n",
    "        col(\"p.patient_age\"),\n",
    "        col(\"p.disease_name\").alias(\"PatientDisease\"),\n",
    "        col(\"h.HospitalKey\"),\n",
    "        col(\"h.hospital_name\"),\n",
    "        col(\"h.city\").alias(\"HospitalCity\"),\n",
    "        col(\"h.state\").alias(\"HospitalState\"),\n",
    "        col(\"h.country\").alias(\"HospitalCountry\"),\n",
    "        col(\"sg.SubgroupKey\"),\n",
    "        col(\"sg.subgrp_name\"),\n",
    "        col(\"sg.monthly_premium\"),\n",
    "        col(\"g.GroupKey\"),\n",
    "        col(\"g.grp_name\"),\n",
    "        col(\"g.grp_type\"),\n",
    "        col(\"g.country\").alias(\"GroupCountry\"),\n",
    "        col(\"g.city\").alias(\"GroupCity\"),\n",
    "        col(\"g.premium_written\"),\n",
    "        col(\"g.zip_code\").alias(\"GroupZipCode\")\n",
    "    )"
   ]
  },
  {
   "cell_type": "code",
   "execution_count": 0,
   "metadata": {
    "application/vnd.databricks.v1+cell": {
     "cellMetadata": {
      "byteLimit": 2048000,
      "rowLimit": 10000
     },
     "inputWidgets": {},
     "nuid": "4775aad4-56b3-4ed8-b7ae-e4c3ef1aa766",
     "showTitle": false,
     "tableResultSettingsMap": {},
     "title": ""
    }
   },
   "outputs": [],
   "source": [
    "display(gold_df)"
   ]
  },
  {
   "cell_type": "code",
   "execution_count": 0,
   "metadata": {
    "application/vnd.databricks.v1+cell": {
     "cellMetadata": {
      "byteLimit": 2048000,
      "rowLimit": 10000
     },
     "inputWidgets": {},
     "nuid": "797bb9c8-33db-4da5-bed2-bd2dbb75c7af",
     "showTitle": false,
     "tableResultSettingsMap": {},
     "title": ""
    }
   },
   "outputs": [],
   "source": [
    "write2gold (dim_patient,\"dim_patient_G\")\n",
    "write2gold (dim_hospital,\"dim_hospital_G\")\n",
    "write2gold (dim_subscriber,\"dim_subscriber_G\")\n",
    "write2gold (dim_group,\"dim_group_G\")\n",
    "write2gold (dim_subgroup,\"dim_subgroup_G\")\n",
    "write2gold (dim_disease,\"dim_disease_G\")\n",
    "write2gold (fact_claims,\"fact_claims_G\")\n",
    "write2gold (gold_df,\"Optum_G\")"
   ]
  },
  {
   "cell_type": "code",
   "execution_count": 0,
   "metadata": {
    "application/vnd.databricks.v1+cell": {
     "cellMetadata": {
      "byteLimit": 2048000,
      "rowLimit": 10000
     },
     "inputWidgets": {},
     "nuid": "17c856d5-3c0a-4a88-8261-2430755bc09a",
     "showTitle": false,
     "tableResultSettingsMap": {},
     "title": ""
    }
   },
   "outputs": [],
   "source": [
    "dim_patient.write.format(\"delta\").mode(\"overwrite\").saveAsTable(\"optum.Gold.dim_patient_data\")\n",
    "dim_hospital.write.format(\"delta\").mode(\"overwrite\").saveAsTable(\"optum.Gold.dim_hospital\")\n",
    "dim_subscriber.write.format(\"delta\").mode(\"overwrite\").saveAsTable(\"optum.Gold.dim_subscriber\")\n",
    "dim_group.write.format(\"delta\").mode(\"overwrite\").saveAsTable(\"optum.Gold.dim_group\")\n",
    "dim_subgroup.write.format(\"delta\").mode(\"overwrite\").saveAsTable(\"optum.Gold.dim_subgroup\")\n",
    "dim_disease.write.format(\"delta\").mode(\"overwrite\").saveAsTable(\"optum.Gold.dim_disease\")\n",
    "fact_claims.write.format(\"delta\").mode(\"overwrite\").saveAsTable(\"optum.Gold.fact_claims\")\n",
    "gold_df.write.format(\"delta\").mode(\"overwrite\").saveAsTable(\"optum.Gold.optum_data\")"
   ]
  },
  {
   "cell_type": "code",
   "execution_count": 0,
   "metadata": {
    "application/vnd.databricks.v1+cell": {
     "cellMetadata": {
      "byteLimit": 2048000,
      "rowLimit": 10000
     },
     "inputWidgets": {},
     "nuid": "292e195a-6a19-45cd-acfc-e1bff2b9138c",
     "showTitle": false,
     "tableResultSettingsMap": {},
     "title": ""
    }
   },
   "outputs": [],
   "source": [
    "display(avg_claim_per_disease)"
   ]
  }
 ],
 "metadata": {
  "application/vnd.databricks.v1+notebook": {
   "computePreferences": null,
   "dashboards": [],
   "environmentMetadata": {
    "base_environment": "",
    "environment_version": "3"
   },
   "inputWidgetPreferences": null,
   "language": "python",
   "notebookMetadata": {
    "pythonIndentUnit": 4
   },
   "notebookName": "Silver2Gold_Transformation_dim_fact_KPI",
   "widgets": {}
  },
  "language_info": {
   "name": "python"
  }
 },
 "nbformat": 4,
 "nbformat_minor": 0
}
