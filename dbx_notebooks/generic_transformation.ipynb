{
 "cells": [
  {
   "cell_type": "code",
   "execution_count": 0,
   "metadata": {
    "application/vnd.databricks.v1+cell": {
     "cellMetadata": {
      "byteLimit": 2048000,
      "rowLimit": 10000
     },
     "inputWidgets": {},
     "nuid": "9d53d1f2-ed49-4959-9e58-14b38620a2e0",
     "showTitle": false,
     "tableResultSettingsMap": {},
     "title": ""
    }
   },
   "outputs": [],
   "source": [
    "from pyspark.sql.functions import *\n",
    "from pyspark.sql.types import *\n"
   ]
  },
  {
   "cell_type": "code",
   "execution_count": 0,
   "metadata": {
    "application/vnd.databricks.v1+cell": {
     "cellMetadata": {
      "byteLimit": 2048000,
      "rowLimit": 10000
     },
     "inputWidgets": {},
     "nuid": "acf4a704-ff72-4bc7-9ff7-3518b5c3817d",
     "showTitle": false,
     "tableResultSettingsMap": {},
     "title": ""
    }
   },
   "outputs": [],
   "source": [
    "def df_row_columns_cnt(df):\n",
    "    return df.count(), len(df.columns)"
   ]
  },
  {
   "cell_type": "code",
   "execution_count": 0,
   "metadata": {
    "application/vnd.databricks.v1+cell": {
     "cellMetadata": {
      "byteLimit": 2048000,
      "rowLimit": 10000
     },
     "inputWidgets": {},
     "nuid": "910fe8c5-1942-4e56-a3d2-6196cd6805b1",
     "showTitle": false,
     "tableResultSettingsMap": {},
     "title": ""
    }
   },
   "outputs": [],
   "source": [
    "def df_missing_value_cnt(df):\n",
    "    missing_data = [(c, df.filter(isnull(col(c))).count()) for c in df.columns]\n",
    "    df_missing = spark.createDataFrame(missing_data, [\"column_name\", \"missing_count\"])\n",
    "    display(df_missing)"
   ]
  },
  {
   "cell_type": "code",
   "execution_count": 0,
   "metadata": {
    "application/vnd.databricks.v1+cell": {
     "cellMetadata": {
      "byteLimit": 2048000,
      "rowLimit": 10000
     },
     "inputWidgets": {},
     "nuid": "cf53f286-8fc3-4268-9b0c-0b4261ea051b",
     "showTitle": false,
     "tableResultSettingsMap": {},
     "title": ""
    }
   },
   "outputs": [],
   "source": [
    "def missing_value_perc(df):\n",
    "    total_rows = df.count()\n",
    "    missing_perc = df.select([(count(when(col(c).isNull(), c)) / total_rows).alias(c) for c in df.columns])\n",
    "    return display(missing_perc.selectExpr(\n",
    "        \"stack({},{}) as (column_name,missing_percentage)\".format(\n",
    "            len(df.columns),\n",
    "            ', '.join([f\"'{c}', {c}\" for c in df.columns])\n",
    "        )\n",
    "    ))"
   ]
  },
  {
   "cell_type": "code",
   "execution_count": 0,
   "metadata": {
    "application/vnd.databricks.v1+cell": {
     "cellMetadata": {
      "byteLimit": 2048000,
      "rowLimit": 10000
     },
     "inputWidgets": {},
     "nuid": "3e96a59a-68b4-4e6d-acb1-afa64445bcd8",
     "showTitle": false,
     "tableResultSettingsMap": {},
     "title": ""
    }
   },
   "outputs": [],
   "source": [
    "def check_missing_perc_and_drop(df):\n",
    "    total_rows=df.count()\n",
    "    missing_values_less_75={}\n",
    "    lst_cl=df.columns\n",
    "    for col_name in lst_cl:\n",
    "        missing_count=df.filter(col(col_name).isNull()).count()\n",
    "        missing_perc=(missing_count/total_rows)*100\n",
    "        if missing_perc<75:\n",
    "            missing_values_less_75[col_name]=missing_perc\n",
    "    else:\n",
    "        df=df.drop(col_name)\n",
    "    return display(df.limit(5))\n",
    "       "
   ]
  },
  {
   "cell_type": "code",
   "execution_count": 0,
   "metadata": {
    "application/vnd.databricks.v1+cell": {
     "cellMetadata": {
      "byteLimit": 2048000,
      "rowLimit": 10000
     },
     "inputWidgets": {},
     "nuid": "f02986e7-4569-486f-a1b9-43015cc7f8cd",
     "showTitle": false,
     "tableResultSettingsMap": {},
     "title": ""
    }
   },
   "outputs": [],
   "source": [
    "def check_duplicates(df):\n",
    "    a=df.select(\"*\").distinct().count()\n",
    "    b=df.count()\n",
    "    if a==b:\n",
    "        print(\"No duplicates found\")\n",
    "    else:\n",
    "        print(\"Duplicates found\")"
   ]
  },
  {
   "cell_type": "code",
   "execution_count": 0,
   "metadata": {
    "application/vnd.databricks.v1+cell": {
     "cellMetadata": {
      "byteLimit": 2048000,
      "rowLimit": 10000
     },
     "inputWidgets": {},
     "nuid": "bc95b491-e8e2-4c80-8c1c-cc53189925c3",
     "showTitle": false,
     "tableResultSettingsMap": {},
     "title": ""
    }
   },
   "outputs": [],
   "source": [
    "def drop_duplicates(df):\n",
    "    df=df.dropDuplicates()"
   ]
  }
 ],
 "metadata": {
  "application/vnd.databricks.v1+notebook": {
   "computePreferences": null,
   "dashboards": [],
   "environmentMetadata": {
    "base_environment": "",
    "environment_version": "3"
   },
   "inputWidgetPreferences": null,
   "language": "python",
   "notebookMetadata": {
    "pythonIndentUnit": 4
   },
   "notebookName": "generic_transformation",
   "widgets": {}
  },
  "language_info": {
   "name": "python"
  }
 },
 "nbformat": 4,
 "nbformat_minor": 0
}
